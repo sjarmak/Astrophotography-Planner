{
 "cells": [
  {
   "cell_type": "code",
   "execution_count": null,
   "id": "66d8566f",
   "metadata": {},
   "outputs": [],
   "source": [
    "from flask import Flask, render_template, request, redirect, url_for\n",
    "import datetime\n",
    "from astropy.coordinates import EarthLocation, AltAz, get_sun, get_moon\n",
    "from astropy.time import Time\n",
    "from astropy import units as u\n",
    "from astroquery.simbad import Simbad\n",
    "from skyfield import api\n",
    "from skyfield import almanac\n",
    "from skyfield.toposlib import Topos\n",
    "import pytz"
   ]
  },
  {
   "cell_type": "code",
   "execution_count": null,
   "id": "ce9ca26a",
   "metadata": {},
   "outputs": [],
   "source": [
    "app = Flask(__name__)"
   ]
  },
  {
   "cell_type": "code",
   "execution_count": 4,
   "id": "dc384952",
   "metadata": {},
   "outputs": [],
   "source": [
    "@app.route('/', methods=['GET', 'POST'])\n",
    "def index():\n",
    "    if request.method == 'POST':\n",
    "        latitude = request.form['latitude']\n",
    "        longitude = request.form['longitude']\n",
    "        start_date = request.form['start_date']\n",
    "        end_date = request.form['end_date']\n",
    "        start_time = request.form['start_time']\n",
    "        end_time = request.form['end_time']\n",
    "        objects_of_interest = request.form.getlist('objects_of_interest')\n",
    "        custom_objects = request.form['custom_objects']\n",
    "        min_altitude = request.form['min_altitude']\n",
    "        max_altitude = request.form['max_altitude']\n",
    "        min_azimuth = request.form['min_azimuth']\n",
    "        max_azimuth = request.form['max_azimuth']\n",
    "\n",
    "        # Load astronomical data\n",
    "        load = api.Loader('skyfield-data')\n",
    "        planets = load('de421.bsp')\n",
    "        earth = planets['earth']\n",
    "        ts = load.timescale()\n",
    "\n",
    "        # Create location object\n",
    "        observer_location = earth + Topos(latitude_degrees=float(latitude), longitude_degrees=float(longitude))\n",
    "\n",
    "        # Define objects of interest\n",
    "        celestial_objects = {\n",
    "            'moon': planets['moon'],\n",
    "            # Add more celestial objects here (planets, Messier objects, etc.)\n",
    "        }\n",
    "\n",
    "       # Find the observer's timezone based on the provided coordinates\n",
    "        timezone = api.timezone_finder.timezone_at(lng=float(longitude), lat=float(latitude))\n",
    "\n",
    "        # Convert date and time strings to datetime objects\n",
    "        start_date_dt = datetime.datetime.strptime(start_date, '%Y-%m-%d').date()\n",
    "        end_date_dt = datetime.datetime.strptime(end_date, '%Y-%m-%d').date()\n",
    "        start_time_dt = datetime.datetime.strptime(start_time, '%H:%M').time()\n",
    "        end_time_dt = datetime.datetime.strptime(end_time, '%H:%M').time()\n",
    "\n",
    "        # Combine the date and time objects\n",
    "        start_local_datetime = datetime.datetime.combine(start_date_dt, start_time_dt)\n",
    "        end_local_datetime = datetime.datetime.combine(end_date_dt, end_time_dt)\n",
    "\n",
    "        # Convert the local observing times to UTC\n",
    "        start_utc_datetime = timezone.localize(start_local_datetime).astimezone(pytz.UTC)\n",
    "        end_utc_datetime = timezone.localize(end_local_datetime).astimezone(pytz.UTC)\n",
    "\n",
    "\n",
    "        # Initialize the results list\n",
    "        results = []\n",
    "\n",
    "        # Iterate through the date range\n",
    "        current_date = start_date_dt\n",
    "        while current_date <= end_date_dt:\n",
    "            start_datetime = datetime.datetime.combine(current_date, start_time_dt)\n",
    "            end_datetime = datetime.datetime.combine(current_date, end_time_dt)\n",
    "\n",
    "            if end_datetime <= start_datetime:\n",
    "                end_datetime += datetime.timedelta(days=1)\n",
    "\n",
    "            t0 = ts.utc(start_datetime.year, start_datetime.month, start_datetime.day, start_datetime.hour, start_datetime.minute, start_datetime.second)\n",
    "            t1 = ts.utc(end_datetime.year, end_datetime.month, end_datetime.day, end_datetime.hour, end_datetime.minute, end_datetime.second)\n",
    "\n",
    "            # Find the objects that are visible within the specified altitude and azimuth ranges\n",
    "            for obj_name, obj in celestial_objects.items():\n",
    "                if obj_name in objects_of_interest or obj_name in custom_objects:\n",
    "                    t, is_rising = almanac.find_discrete(t0, t1, almanac.risings_and_settings(planets, obj, observer_location))\n",
    "\n",
    "                    for ti, rising in zip(t, is_rising):\n",
    "                        altitude, azimuth, _ = (observer_location - obj).at(ti).altaz()\n",
    "\n",
    "                        if (rising\n",
    "                            and min_altitude <= altitude.degrees <= max_altitude\n",
    "                            and min_azimuth <= azimuth.degrees <= max_azimuth):\n",
    "\n",
    "                            results.append({\n",
    "                                'date': current_date,\n",
    "                                'object': obj_name,\n",
    "                                'altitude': round(altitude.degrees, 2),\n",
    "                                'azimuth': round(azimuth.degrees, 2),\n",
    "                            })\n",
    "\n",
    "            current_date += datetime.timedelta(days=1)\n",
    "\n",
    "\n",
    "        return render_template('index.html', results=results)\n",
    "    return render_template('index.html')\n"
   ]
  },
  {
   "cell_type": "code",
   "execution_count": null,
   "id": "e4a249d2",
   "metadata": {},
   "outputs": [
    {
     "name": "stdout",
     "output_type": "stream",
     "text": [
      " * Serving Flask app '__main__'\n",
      " * Debug mode: on\n"
     ]
    },
    {
     "name": "stderr",
     "output_type": "stream",
     "text": [
      "\u001b[31m\u001b[1mWARNING: This is a development server. Do not use it in a production deployment. Use a production WSGI server instead.\u001b[0m\n",
      " * Running on http://127.0.0.1:5000\n",
      "\u001b[33mPress CTRL+C to quit\u001b[0m\n",
      " * Restarting with stat\n"
     ]
    }
   ],
   "source": [
    "if __name__ == '__main__':\n",
    "    app.run(debug=True)"
   ]
  },
  {
   "cell_type": "code",
   "execution_count": null,
   "id": "37078c7a",
   "metadata": {},
   "outputs": [],
   "source": []
  }
 ],
 "metadata": {
  "kernelspec": {
   "display_name": "Python 3 (ipykernel)",
   "language": "python",
   "name": "python3"
  },
  "language_info": {
   "codemirror_mode": {
    "name": "ipython",
    "version": 3
   },
   "file_extension": ".py",
   "mimetype": "text/x-python",
   "name": "python",
   "nbconvert_exporter": "python",
   "pygments_lexer": "ipython3",
   "version": "3.9.16"
  }
 },
 "nbformat": 4,
 "nbformat_minor": 5
}
